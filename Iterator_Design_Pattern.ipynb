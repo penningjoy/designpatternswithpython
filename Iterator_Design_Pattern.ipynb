{
  "nbformat": 4,
  "nbformat_minor": 0,
  "metadata": {
    "colab": {
      "provenance": [],
      "authorship_tag": "ABX9TyPWfFet2s0eknAnwAa1ZoVC",
      "include_colab_link": true
    },
    "kernelspec": {
      "name": "python3",
      "display_name": "Python 3"
    },
    "language_info": {
      "name": "python"
    }
  },
  "cells": [
    {
      "cell_type": "markdown",
      "metadata": {
        "id": "view-in-github",
        "colab_type": "text"
      },
      "source": [
        "<a href=\"https://colab.research.google.com/github/penningjoy/designpatternswithpython/blob/main/Iterator_Design_Pattern.ipynb\" target=\"_parent\"><img src=\"https://colab.research.google.com/assets/colab-badge.svg\" alt=\"Open In Colab\"/></a>"
      ]
    },
    {
      "cell_type": "markdown",
      "source": [
        "\n",
        "\n",
        "## Iterator Design Pattern\n",
        "\n",
        "Iterator design pattern gives a way to access elements of a Collection in a sequential manner. It does not have to know the underlying working for the iteration to work.\n",
        "\n",
        "    There are few keys components to implementing this pattern :\n",
        "\n",
        "    i.  Client --  Class that contains a collection object and calls the next() method to access the collection items.\n",
        "\n",
        "    ii. IteratorInterface -- Interface that defines the operations to ACCESS the collection items.\n",
        "\n",
        "    iii.ConcreteIterator -- Concrete class that implements the operations to ACCESS the collection items.\n",
        "\n",
        "    ív. AggregatorInterface / CollectionInterface -- Interface that defines the operations to CREATE the collection.\n",
        "\n",
        "    v. ConcreteAggregator / ConcreteCollection -- Concrete class that implements the operations to CREATE the collection.\n"
      ],
      "metadata": {
        "id": "0dFlanlWYIcB"
      }
    },
    {
      "cell_type": "code",
      "execution_count": null,
      "metadata": {
        "id": "OIWrK0DTYFpK"
      },
      "outputs": [],
      "source": [
        "from abc import ABC\n",
        "\n",
        "class IShoppingListIterator(ABC):\n",
        "    def has_next(self):\n",
        "        pass\n",
        "\n",
        "    def next(self):\n",
        "        pass\n",
        "\n",
        "\n",
        "class IShoppingListCollection(ABC):\n",
        "    def createIterator(self) -> IShoppingListIterator:\n",
        "        pass\n",
        "\n",
        "\n",
        "class ShoppingListIterator(IShoppingListIterator):\n",
        "    def __init__(self, shopping_list: list[str]) -> None:\n",
        "        self._shopping_list = shopping_list\n",
        "        self._current_index = 0\n",
        "\n",
        "    def has_next(self):\n",
        "        return self._current_index < len(self._shopping_list)\n",
        "\n",
        "    def next(self):\n",
        "        current_item = self._shopping_list[self._current_index]\n",
        "        self._current_index += 1\n",
        "        return current_item\n",
        "\n",
        "\n",
        "class ShoppingListCollection(IShoppingListCollection):\n",
        "    def __init__(self, shopping_list) -> None:\n",
        "        self._shopping_list = shopping_list\n",
        "\n",
        "    def createIterator(self) -> IShoppingListIterator:\n",
        "        return ShoppingListIterator(self._shopping_list)\n",
        "\n",
        "\n",
        "def main():\n",
        "    shopping_list = [\"eggs\", \"apples\", \"butter\"]\n",
        "    aggregator = IShoppingListCollection(shopping_list=shopping_list)\n",
        "    iterator = aggregator.createIterator()\n",
        "\n",
        "    while iterator.has_next():\n",
        "        print(iterator.next())\n",
        "\n",
        "main()"
      ]
    }
  ]
}