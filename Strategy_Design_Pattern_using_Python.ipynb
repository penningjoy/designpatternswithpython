{
  "nbformat": 4,
  "nbformat_minor": 0,
  "metadata": {
    "colab": {
      "provenance": [],
      "authorship_tag": "ABX9TyMQDlrUsDIGm9aEuBcDLqDM",
      "include_colab_link": true
    },
    "kernelspec": {
      "name": "python3",
      "display_name": "Python 3"
    },
    "language_info": {
      "name": "python"
    }
  },
  "cells": [
    {
      "cell_type": "markdown",
      "metadata": {
        "id": "view-in-github",
        "colab_type": "text"
      },
      "source": [
        "<a href=\"https://colab.research.google.com/github/penningjoy/designpatternswithpython/blob/main/Strategy_Design_Pattern_using_Python.ipynb\" target=\"_parent\"><img src=\"https://colab.research.google.com/assets/colab-badge.svg\" alt=\"Open In Colab\"/></a>"
      ]
    },
    {
      "cell_type": "markdown",
      "source": [
        "# Strategy Design Pattern\n",
        "\n",
        "It's a Behavioural Design Pattern where an object's behaviour can be changed at\n",
        "runtime. Key components are -- i. Client -- one who interacts with the context, ii. Context - holds a reference to a specific strategy and delegates the work to it, iii. Strategy - the common interface for strategies, iv. Concrete Strategies - here is where the actual behaviours are defined.\n",
        "\n",
        "\n",
        "Applications\n",
        "-------------\n",
        " i. Sorting Algorithms ,\n",
        " ii. Validation Rules,\n",
        " iii. Compression Algorithms,\n",
        " iv. DB Access"
      ],
      "metadata": {
        "id": "r3u18oJ6HWH0"
      }
    },
    {
      "cell_type": "code",
      "source": [
        "from abc import ABC, abstractmethod\n",
        "\n",
        "class IVacationStrategy(ABC):\n",
        "  @abstractmethod\n",
        "  def take_trip_and_sing():\n",
        "    pass\n",
        "\n",
        "class DisneyVacation(IVacationStrategy):\n",
        "  def take_trip_and_sing(self):\n",
        "    print(\"Yaay!! Let's go to Disney, Disney! See Micky, Minnie! \" \\\n",
        "           \"Walk down Main Street wearing all our pins! ... Fairview\")\n",
        "\n",
        "class HawaiiVacation(IVacationStrategy):\n",
        "  def take_trip_and_sing(self):\n",
        "    print(\"Oh Hawaii! O you an enchanting art! \"\\\n",
        "          \"The brightest child of the mother earth! ... Joydeep Banerjee\")\n",
        "\n",
        "\n",
        "class NewYorkVacation(IVacationStrategy):\n",
        "  def take_trip_and_sing(self):\n",
        "    print(\"Welcome to New York, it's been waitin' for you! .. Taylor Swift\")\n",
        "\n",
        "\n",
        "class Planner():\n",
        "  def __init__(self, vacation_strategy: IVacationStrategy):\n",
        "    self.strategy = vacation_strategy\n",
        "\n",
        "  def decide(self):\n",
        "    self.strategy.take_trip_and_sing()\n",
        "\n",
        "\n",
        "def plan(budget):\n",
        "  if (budget > 4000):\n",
        "    planner = Planner(HawaiiVacation())\n",
        "    planner.decide()\n",
        "  elif (budget > 1000):\n",
        "    planner = Planner(DisneyVacation())\n",
        "    planner.decide()\n",
        "  elif (budget > 200):\n",
        "    planner = Planner(NewYorkVacation())\n",
        "    planner.decide()\n",
        "  else:\n",
        "    print(\"The club isn't the best place to find a lover, \" \\\n",
        "          \"So home is where I stay! .. Aid Sheeran\")\n",
        "\n",
        "\n",
        "plan(budget=100)\n"
      ],
      "metadata": {
        "colab": {
          "base_uri": "https://localhost:8080/"
        },
        "id": "YaX0xwxyHUl4",
        "outputId": "2a481ac2-4762-42fa-b621-617718041491"
      },
      "execution_count": 16,
      "outputs": [
        {
          "output_type": "stream",
          "name": "stdout",
          "text": [
            "The club isn't the best place to find a lover, So home is where I stay! .. Aid Sheeran\n"
          ]
        }
      ]
    }
  ]
}