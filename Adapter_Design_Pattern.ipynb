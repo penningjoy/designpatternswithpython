{
  "nbformat": 4,
  "nbformat_minor": 0,
  "metadata": {
    "colab": {
      "provenance": [],
      "authorship_tag": "ABX9TyOeXm5jPcqabP0ITatdB0Xy",
      "include_colab_link": true
    },
    "kernelspec": {
      "name": "python3",
      "display_name": "Python 3"
    },
    "language_info": {
      "name": "python"
    }
  },
  "cells": [
    {
      "cell_type": "markdown",
      "metadata": {
        "id": "view-in-github",
        "colab_type": "text"
      },
      "source": [
        "<a href=\"https://colab.research.google.com/github/penningjoy/designpatternswithpython/blob/main/Adapter_Design_Pattern.ipynb\" target=\"_parent\"><img src=\"https://colab.research.google.com/assets/colab-badge.svg\" alt=\"Open In Colab\"/></a>"
      ]
    },
    {
      "cell_type": "markdown",
      "source": [
        "# Adapter Design Pattern\n",
        "\n",
        "The Adapter Design Pattern is a Structural design pattern that allows objects with incompatible interfaces to work together.  \n",
        "\n",
        "Applications\n",
        "i. Code Reuse, ii. Third Party Integration, iii. Legacy Support"
      ],
      "metadata": {
        "id": "JpmzcZNBTYeO"
      }
    },
    {
      "cell_type": "code",
      "execution_count": 13,
      "metadata": {
        "colab": {
          "base_uri": "https://localhost:8080/"
        },
        "id": "knDMDny4TJfg",
        "outputId": "c71497a3-df32-4e8d-aa8e-518069c3fa13"
      },
      "outputs": [
        {
          "output_type": "stream",
          "name": "stdout",
          "text": [
            "Connection with new DB successful\n",
            "Connection with Legacy DB successful\n"
          ]
        }
      ],
      "source": [
        "from abc import ABC, abstractmethod\n",
        "\n",
        "class ILegacyDatabase(ABC):\n",
        "  @abstractmethod\n",
        "  def check_availability(self) -> None:\n",
        "    pass\n",
        "\n",
        "class LegacyDatabase(ILegacyDatabase):\n",
        "  def check_availability(self) -> None:\n",
        "    return True\n",
        "\n",
        "\n",
        "class IDatabase(ABC):\n",
        "  @abstractmethod\n",
        "  def connect(self):\n",
        "    pass\n",
        "\n",
        "class NewDatase(IDatabase):\n",
        "  def connect(self):\n",
        "    print(\"Connection with new DB successful\")\n",
        "\n",
        "\n",
        "class LegacyDatabaseAdapter(IDatabase):\n",
        "  def __init__(self) -> None:\n",
        "    self.database = LegacyDatabase()\n",
        "\n",
        "  def connect(self) -> None:\n",
        "    if (self.database.check_availability()):\n",
        "      print(\"Connection with Legacy DB successful\")\n",
        "\n",
        "\n",
        "class DatabaseClient:\n",
        "  def connect_to_dbs(self) -> None:\n",
        "    new_database = NewDatase()\n",
        "    new_database.connect()\n",
        "\n",
        "    legacy_database_adapter = LegacyDatabaseAdapter()\n",
        "    legacy_database_adapter.connect()\n",
        "\n",
        "\n",
        "client = DatabaseClient()\n",
        "client.connect_to_dbs()\n",
        "\n"
      ]
    }
  ]
}