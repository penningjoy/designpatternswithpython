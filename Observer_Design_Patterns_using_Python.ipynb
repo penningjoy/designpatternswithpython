{
  "nbformat": 4,
  "nbformat_minor": 0,
  "metadata": {
    "colab": {
      "provenance": [],
      "authorship_tag": "ABX9TyNfLikAeN5cfow7ltjaKnWq",
      "include_colab_link": true
    },
    "kernelspec": {
      "name": "python3",
      "display_name": "Python 3"
    },
    "language_info": {
      "name": "python"
    }
  },
  "cells": [
    {
      "cell_type": "markdown",
      "metadata": {
        "id": "view-in-github",
        "colab_type": "text"
      },
      "source": [
        "<a href=\"https://colab.research.google.com/github/penningjoy/designpatternswithpython/blob/main/Observer_Design_Patterns_using_Python.ipynb\" target=\"_parent\"><img src=\"https://colab.research.google.com/assets/colab-badge.svg\" alt=\"Open In Colab\"/></a>"
      ]
    },
    {
      "cell_type": "markdown",
      "source": [
        "# Observer Design Pattern\n",
        "\n",
        "It's a Observer design pattern where several objects called Observers subscribe to an object called Subject and the subject notifies the observers automatically whenever there is a change in its state.\n",
        "\n",
        "\n",
        "Applications\n",
        "------------\n",
        "\n",
        "i. Event driven Systems\n",
        "ii. UI Systems\n",
        "iii. Distributed Systems"
      ],
      "metadata": {
        "id": "mJ9MVW-EEcuI"
      }
    },
    {
      "cell_type": "code",
      "execution_count": 13,
      "metadata": {
        "colab": {
          "base_uri": "https://localhost:8080/"
        },
        "id": "HoJCi_0kziBT",
        "outputId": "89d9c8f1-4bbe-4145-c9af-956ac7ecd1a9"
      },
      "outputs": [
        {
          "output_type": "stream",
          "name": "stdout",
          "text": [
            "Customer A has subscribed\n",
            "Customer B has subscribed\n",
            "\n",
            "\n",
            "Hello Customer A. Our book count is now : 1\n",
            "Hello Customer B. Our book count is now : 1\n",
            "Hello Customer A. Our book count is now : 2\n",
            "Hello Customer B. Our book count is now : 2\n",
            "Hello Customer A. Our book count is now : 3\n",
            "Hello Customer B. Our book count is now : 3\n",
            "\n",
            "\n",
            "Customer A has unsubscribed\n",
            "Customer B has unsubscribed\n"
          ]
        }
      ],
      "source": [
        "from abc import ABC, abstractmethod\n",
        "\n",
        "class IObserver(ABC):\n",
        "    @abstractmethod\n",
        "    def update(self, subject):\n",
        "        pass\n",
        "\n",
        "\n",
        "class ISubject(ABC):\n",
        "    @abstractmethod\n",
        "    def subscribe(self, observer: IObserver):\n",
        "        pass\n",
        "\n",
        "    @abstractmethod\n",
        "    def unsubscribe(self, observer: IObserver):\n",
        "        pass\n",
        "\n",
        "    def notify(self):\n",
        "        pass\n",
        "\n",
        "\n",
        "class BookStore(ISubject):\n",
        "\n",
        "    def __init__(self) -> None:\n",
        "        self.books: int = -0\n",
        "        self._customers: list[IObserver] = []\n",
        "\n",
        "    def subscribe(self, customer:IObserver):\n",
        "        self._customers.append(customer)\n",
        "        print(f\"{str(customer)} has subscribed\")\n",
        "\n",
        "    def unsubscribe(self, customer: IObserver):\n",
        "        self._customers.remove(customer)\n",
        "        print(f\"{str(customer)} has unsubscribed\")\n",
        "\n",
        "    def notify(self):\n",
        "        for customer in self._customers:\n",
        "            customer.update(self.books)\n",
        "\n",
        "    def update_state(self):\n",
        "        self.books = self.books + 1\n",
        "\n",
        "\n",
        "class CustomerA(IObserver):\n",
        "    def __str__(self):\n",
        "        return \"Customer A\"\n",
        "\n",
        "    def update(self, subject):\n",
        "        print(f\"Hello {str(self)}. Our book count is now : {subject}\")\n",
        "\n",
        "\n",
        "class CustomerB(IObserver):\n",
        "    def __str__(self):\n",
        "        return \"Customer B\"\n",
        "\n",
        "    def update(self, subject):\n",
        "        print(f\"Hello {str(self)}. Our book count is now : {subject}\")\n",
        "\n",
        "\n",
        "def main():\n",
        "    book_store = BookStore()\n",
        "    customerA = CustomerA()\n",
        "    customerB = CustomerB()\n",
        "\n",
        "    book_store.subscribe(customerA)\n",
        "    book_store.subscribe(customerB)\n",
        "\n",
        "    print(\"\\n\")\n",
        "\n",
        "    book_store.update_state()\n",
        "    book_store.notify()\n",
        "\n",
        "    book_store.update_state()\n",
        "    book_store.notify()\n",
        "\n",
        "    book_store.update_state()\n",
        "    book_store.notify()\n",
        "\n",
        "    print(\"\\n\")\n",
        "    book_store.unsubscribe(customerA)\n",
        "    book_store.unsubscribe(customerB)\n",
        "\n",
        "\n",
        "main()"
      ]
    }
  ]
}